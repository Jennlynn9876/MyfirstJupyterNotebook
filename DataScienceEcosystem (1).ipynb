{
 "cells": [
  {
   "cell_type": "markdown",
   "id": "81e298ca",
   "metadata": {},
   "source": [
    "# Data Science Tools and Ecosystem"
   ]
  },
  {
   "cell_type": "markdown",
   "id": "fd8bc74a",
   "metadata": {},
   "source": [
    "In this notebook, Data Science Tools and Ecosystem are summarized."
   ]
  },
  {
   "cell_type": "markdown",
   "id": "e146797b",
   "metadata": {},
   "source": [
    "**Objectives:**"
   ]
  },
  {
   "cell_type": "markdown",
   "id": "f44b7938",
   "metadata": {},
   "source": [
    "- list popular DS languages \n",
    "- list popular DS libraries \n",
    "- create a Jupyter Notebook "
   ]
  },
  {
   "cell_type": "markdown",
   "id": "758bd40c",
   "metadata": {},
   "source": [
    "Some of the popular languages that Data Scientists use are:"
   ]
  },
  {
   "cell_type": "markdown",
   "id": "761893b3",
   "metadata": {},
   "source": [
    "1. Python\n",
    "2. C++\n",
    "3. SQL"
   ]
  },
  {
   "cell_type": "markdown",
   "id": "3b1c8de3",
   "metadata": {},
   "source": [
    "Some of the commonly used libraries used by Data Scientists include:\n",
    "\n",
    "1. Pandas\n",
    "2. TensorFlow\n",
    "3. Bob"
   ]
  },
  {
   "cell_type": "markdown",
   "id": "2aac20b1",
   "metadata": {},
   "source": [
    "|Data Science Tools|\n",
    "|:--------------:|\n",
    "| Apache Hadoop |\n",
    "| Jupyter Notebook|\n",
    "| Apache Spark|\n",
    "| TensorFlow|"
   ]
  },
  {
   "cell_type": "markdown",
   "id": "baeff76c",
   "metadata": {},
   "source": [
    "### Below are a few examples of evaluating arithmetic expressions in Python"
   ]
  },
  {
   "cell_type": "markdown",
   "id": "5b4f279d",
   "metadata": {},
   "source": [
    "This a simple arithmetic expression to mutiply then add integers"
   ]
  },
  {
   "cell_type": "code",
   "execution_count": 3,
   "id": "7f729dc5",
   "metadata": {},
   "outputs": [
    {
     "data": {
      "text/plain": [
       "17"
      ]
     },
     "execution_count": 3,
     "metadata": {},
     "output_type": "execute_result"
    }
   ],
   "source": [
    "(3*4)+5"
   ]
  },
  {
   "cell_type": "markdown",
   "id": "62735ffd",
   "metadata": {},
   "source": [
    "This will convert 200 minutes to hours by dividing by 60"
   ]
  },
  {
   "cell_type": "code",
   "execution_count": 4,
   "id": "bbb43098",
   "metadata": {},
   "outputs": [
    {
     "data": {
      "text/plain": [
       "3.3333333333333335"
      ]
     },
     "execution_count": 4,
     "metadata": {},
     "output_type": "execute_result"
    }
   ],
   "source": [
    "200/60"
   ]
  },
  {
   "cell_type": "markdown",
   "id": "47e1f195",
   "metadata": {},
   "source": [
    "## Author"
   ]
  },
  {
   "cell_type": "markdown",
   "id": "4291954f",
   "metadata": {},
   "source": [
    "Jennifer Deason"
   ]
  },
  {
   "cell_type": "code",
   "execution_count": null,
   "id": "0dbf88b6",
   "metadata": {},
   "outputs": [],
   "source": []
  }
 ],
 "metadata": {
  "kernelspec": {
   "display_name": "Python 3 (ipykernel)",
   "language": "python",
   "name": "python3"
  },
  "language_info": {
   "codemirror_mode": {
    "name": "ipython",
    "version": 3
   },
   "file_extension": ".py",
   "mimetype": "text/x-python",
   "name": "python",
   "nbconvert_exporter": "python",
   "pygments_lexer": "ipython3",
   "version": "3.9.16"
  }
 },
 "nbformat": 4,
 "nbformat_minor": 5
}
